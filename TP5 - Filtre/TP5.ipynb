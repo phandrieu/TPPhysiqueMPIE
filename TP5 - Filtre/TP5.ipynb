{
 "cells": [
  {
   "attachments": {},
   "cell_type": "markdown",
   "metadata": {},
   "source": [
    "# TP5 - Filtre temporel : Résolution numérique"
   ]
  },
  {
   "cell_type": "code",
   "execution_count": 10,
   "metadata": {},
   "outputs": [],
   "source": [
    "import numpy as np\n",
    "import scipy as scp\n",
    "import matplotlib.pyplot as plt\n",
    "from scipy.integrate import solve_ivp, odeint\n",
    "from scipy.signal import square\n",
    "\n",
    "\n"
   ]
  },
  {
   "cell_type": "code",
   "execution_count": null,
   "metadata": {},
   "outputs": [],
   "source": [
    "E = 1\n",
    "f = 1"
   ]
  },
  {
   "cell_type": "code",
   "execution_count": 9,
   "metadata": {},
   "outputs": [],
   "source": [
    "def resolution_scp(a, e, y0, t0, tf):\n",
    "    \"\"\"Renvoie la solution de l'équation y' + ay = e(t), y(0) = y_0 sur [t0, tf]\"\"\"\n",
    "    equation = lambda t, y:  -a * y(t) + e(t)\n",
    "    \n",
    "    \n",
    "    return solve_ivp(equation, [t0, tf], [y0])\n",
    "\n",
    "\n",
    "\n",
    "    \n",
    "    "
   ]
  },
  {
   "cell_type": "code",
   "execution_count": 11,
   "metadata": {},
   "outputs": [
    {
     "ename": "TypeError",
     "evalue": "'numpy.ndarray' object is not callable",
     "output_type": "error",
     "traceback": [
      "\u001b[0;31m---------------------------------------------------------------------------\u001b[0m",
      "\u001b[0;31mTypeError\u001b[0m                                 Traceback (most recent call last)",
      "Cell \u001b[0;32mIn[11], line 7\u001b[0m\n\u001b[1;32m      4\u001b[0m R \u001b[39m=\u001b[39m \u001b[39m1000\u001b[39m\n\u001b[1;32m      5\u001b[0m L \u001b[39m=\u001b[39m \u001b[39m7e-3\u001b[39m\n\u001b[0;32m----> 7\u001b[0m y \u001b[39m=\u001b[39m resolution_scp(\u001b[39m-\u001b[39;49m(R\u001b[39m/\u001b[39;49mL), \u001b[39mlambda\u001b[39;49;00m t: (R\u001b[39m/\u001b[39;49mL)\u001b[39m*\u001b[39;49mcreneau(t), \u001b[39m0\u001b[39;49m, \u001b[39m0\u001b[39;49m, \u001b[39m1e-5\u001b[39;49m)\n",
      "Cell \u001b[0;32mIn[9], line 6\u001b[0m, in \u001b[0;36mresolution_scp\u001b[0;34m(a, e, y0, t0, tf)\u001b[0m\n\u001b[1;32m      2\u001b[0m \u001b[39m\"\"\"Renvoie la solution de l'équation y' + ay = e(t), y(0) = y_0 sur [t0, tf]\"\"\"\u001b[39;00m\n\u001b[1;32m      3\u001b[0m equation \u001b[39m=\u001b[39m \u001b[39mlambda\u001b[39;00m t, y:  \u001b[39m-\u001b[39ma \u001b[39m*\u001b[39m y(t) \u001b[39m+\u001b[39m e(t)\n\u001b[0;32m----> 6\u001b[0m \u001b[39mreturn\u001b[39;00m solve_ivp(equation, [t0, tf], [y0])\n",
      "File \u001b[0;32m/usr/local/lib/python3.10/site-packages/scipy/integrate/_ivp/ivp.py:555\u001b[0m, in \u001b[0;36msolve_ivp\u001b[0;34m(fun, t_span, y0, method, t_eval, dense_output, events, vectorized, args, **options)\u001b[0m\n\u001b[1;32m    552\u001b[0m \u001b[39mif\u001b[39;00m method \u001b[39min\u001b[39;00m METHODS:\n\u001b[1;32m    553\u001b[0m     method \u001b[39m=\u001b[39m METHODS[method]\n\u001b[0;32m--> 555\u001b[0m solver \u001b[39m=\u001b[39m method(fun, t0, y0, tf, vectorized\u001b[39m=\u001b[39;49mvectorized, \u001b[39m*\u001b[39;49m\u001b[39m*\u001b[39;49moptions)\n\u001b[1;32m    557\u001b[0m \u001b[39mif\u001b[39;00m t_eval \u001b[39mis\u001b[39;00m \u001b[39mNone\u001b[39;00m:\n\u001b[1;32m    558\u001b[0m     ts \u001b[39m=\u001b[39m [t0]\n",
      "File \u001b[0;32m/usr/local/lib/python3.10/site-packages/scipy/integrate/_ivp/rk.py:94\u001b[0m, in \u001b[0;36mRungeKutta.__init__\u001b[0;34m(self, fun, t0, y0, t_bound, max_step, rtol, atol, vectorized, first_step, **extraneous)\u001b[0m\n\u001b[1;32m     92\u001b[0m \u001b[39mself\u001b[39m\u001b[39m.\u001b[39mmax_step \u001b[39m=\u001b[39m validate_max_step(max_step)\n\u001b[1;32m     93\u001b[0m \u001b[39mself\u001b[39m\u001b[39m.\u001b[39mrtol, \u001b[39mself\u001b[39m\u001b[39m.\u001b[39matol \u001b[39m=\u001b[39m validate_tol(rtol, atol, \u001b[39mself\u001b[39m\u001b[39m.\u001b[39mn)\n\u001b[0;32m---> 94\u001b[0m \u001b[39mself\u001b[39m\u001b[39m.\u001b[39mf \u001b[39m=\u001b[39m \u001b[39mself\u001b[39;49m\u001b[39m.\u001b[39;49mfun(\u001b[39mself\u001b[39;49m\u001b[39m.\u001b[39;49mt, \u001b[39mself\u001b[39;49m\u001b[39m.\u001b[39;49my)\n\u001b[1;32m     95\u001b[0m \u001b[39mif\u001b[39;00m first_step \u001b[39mis\u001b[39;00m \u001b[39mNone\u001b[39;00m:\n\u001b[1;32m     96\u001b[0m     \u001b[39mself\u001b[39m\u001b[39m.\u001b[39mh_abs \u001b[39m=\u001b[39m select_initial_step(\n\u001b[1;32m     97\u001b[0m         \u001b[39mself\u001b[39m\u001b[39m.\u001b[39mfun, \u001b[39mself\u001b[39m\u001b[39m.\u001b[39mt, \u001b[39mself\u001b[39m\u001b[39m.\u001b[39my, \u001b[39mself\u001b[39m\u001b[39m.\u001b[39mf, \u001b[39mself\u001b[39m\u001b[39m.\u001b[39mdirection,\n\u001b[1;32m     98\u001b[0m         \u001b[39mself\u001b[39m\u001b[39m.\u001b[39merror_estimator_order, \u001b[39mself\u001b[39m\u001b[39m.\u001b[39mrtol, \u001b[39mself\u001b[39m\u001b[39m.\u001b[39matol)\n",
      "File \u001b[0;32m/usr/local/lib/python3.10/site-packages/scipy/integrate/_ivp/base.py:138\u001b[0m, in \u001b[0;36mOdeSolver.__init__.<locals>.fun\u001b[0;34m(t, y)\u001b[0m\n\u001b[1;32m    136\u001b[0m \u001b[39mdef\u001b[39;00m \u001b[39mfun\u001b[39m(t, y):\n\u001b[1;32m    137\u001b[0m     \u001b[39mself\u001b[39m\u001b[39m.\u001b[39mnfev \u001b[39m+\u001b[39m\u001b[39m=\u001b[39m \u001b[39m1\u001b[39m\n\u001b[0;32m--> 138\u001b[0m     \u001b[39mreturn\u001b[39;00m \u001b[39mself\u001b[39;49m\u001b[39m.\u001b[39;49mfun_single(t, y)\n",
      "File \u001b[0;32m/usr/local/lib/python3.10/site-packages/scipy/integrate/_ivp/base.py:20\u001b[0m, in \u001b[0;36mcheck_arguments.<locals>.fun_wrapped\u001b[0;34m(t, y)\u001b[0m\n\u001b[1;32m     19\u001b[0m \u001b[39mdef\u001b[39;00m \u001b[39mfun_wrapped\u001b[39m(t, y):\n\u001b[0;32m---> 20\u001b[0m     \u001b[39mreturn\u001b[39;00m np\u001b[39m.\u001b[39masarray(fun(t, y), dtype\u001b[39m=\u001b[39mdtype)\n",
      "Cell \u001b[0;32mIn[9], line 3\u001b[0m, in \u001b[0;36mresolution_scp.<locals>.<lambda>\u001b[0;34m(t, y)\u001b[0m\n\u001b[1;32m      1\u001b[0m \u001b[39mdef\u001b[39;00m \u001b[39mresolution_scp\u001b[39m(a, e, y0, t0, tf):\n\u001b[1;32m      2\u001b[0m     \u001b[39m\"\"\"Renvoie la solution de l'équation y' + ay = e(t), y(0) = y_0 sur [t0, tf]\"\"\"\u001b[39;00m\n\u001b[0;32m----> 3\u001b[0m     equation \u001b[39m=\u001b[39m \u001b[39mlambda\u001b[39;00m t, y:  \u001b[39m-\u001b[39ma \u001b[39m*\u001b[39m y(t) \u001b[39m+\u001b[39m e(t)\n\u001b[1;32m      6\u001b[0m     \u001b[39mreturn\u001b[39;00m solve_ivp(equation, [t0, tf], [y0])\n",
      "\u001b[0;31mTypeError\u001b[0m: 'numpy.ndarray' object is not callable"
     ]
    }
   ],
   "source": [
    "def creneau(t):\n",
    "    return E * square(2*np.pi*f * t)\n",
    "\n",
    "R = 1000\n",
    "L = 7e-3\n",
    "\n",
    "y = resolution_scp(-(R/L), lambda t: (R/L)*creneau(t), 0, 0, 1e-5)"
   ]
  },
  {
   "cell_type": "code",
   "execution_count": null,
   "metadata": {},
   "outputs": [],
   "source": [
    "def methode_euler(a, e, y0, N):\n",
    "    \"\"\"Renvoie la solution de l'équation y' + ay = e(t), y(0) = y_0\"\"\"\n",
    "    h = 1/N\n",
    "    t = np.linspace(0, 1, N+1)\n",
    "    y = np.zeros(N+1)\n",
    "    y[0] = y0\n",
    "    for i in range(N):\n",
    "        y[i+1] = y[i] + h*(e(t[i]) - a*y[i])\n",
    "    return t, y\n",
    "\n",
    "\n"
   ]
  }
 ],
 "metadata": {
  "kernelspec": {
   "display_name": "Python 3",
   "language": "python",
   "name": "python3"
  },
  "language_info": {
   "codemirror_mode": {
    "name": "ipython",
    "version": 3
   },
   "file_extension": ".py",
   "mimetype": "text/x-python",
   "name": "python",
   "nbconvert_exporter": "python",
   "pygments_lexer": "ipython3",
   "version": "3.10.8"
  },
  "orig_nbformat": 4,
  "vscode": {
   "interpreter": {
    "hash": "aee8b7b246df8f9039afb4144a1f6fd8d2ca17a180786b69acc140d282b71a49"
   }
  }
 },
 "nbformat": 4,
 "nbformat_minor": 2
}
